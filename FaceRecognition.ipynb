{
 "cells": [
  {
   "cell_type": "code",
   "execution_count": null,
   "id": "6a9e9656-8ab6-4cb5-a670-2d040ae1c6f7",
   "metadata": {},
   "outputs": [],
   "source": [
    "face Detection python code for beigner"
   ]
  },
  {
   "cell_type": "code",
   "execution_count": 2,
   "id": "cc242416-f28d-474d-b836-5a7a33f4ce3e",
   "metadata": {},
   "outputs": [],
   "source": [
    "# import cv2"
   ]
  },
  {
   "cell_type": "code",
   "execution_count": 5,
   "id": "e5f5b6fd-657d-4c70-ab04-581494116493",
   "metadata": {},
   "outputs": [],
   "source": [
    "import cv2\n",
    "\n",
    "face_cap = cv2.CascadeClassifier(cv2.data.haarcascades + \"haarcascade_frontalface_alt2.xml\")\n",
    "video_cap = cv2.VideoCapture(0)\n",
    "\n",
    "while True: \n",
    "    ret, video_data = video_cap.read()\n",
    "    if not ret:\n",
    "        break  \n",
    "\n",
    "    col = cv2.cvtColor(video_data, cv2.COLOR_BGR2GRAY)  \n",
    "\n",
    "    faces = face_cap.detectMultiScale(\n",
    "        col,\n",
    "        scaleFactor=1.1,\n",
    "        minNeighbors=5,\n",
    "        minSize=(30, 30),\n",
    "        flags=cv2.CASCADE_SCALE_IMAGE\n",
    "    )\n",
    "\n",
    "    for (x, y, w, h) in faces:\n",
    "        cv2.rectangle(video_data, (x, y), (x + w, y + h), (0, 255, 0), 2)\n",
    "\n",
    "    cv2.imshow(\"Video_Live\", video_data)\n",
    "\n",
    "    if cv2.waitKey(10) & 0xFF == ord(\"a\"):\n",
    "        break\n",
    "\n",
    "video_cap.release()\n",
    "cv2.destroyAllWindows()\n"
   ]
  },
  {
   "cell_type": "code",
   "execution_count": 3,
   "id": "630a6426-6138-46cc-912c-c5897cf81c8c",
   "metadata": {},
   "outputs": [],
   "source": [
    "# face_cap = cv2.CascadeClassifier(\"C:/Users/hp/AppData/Local/Programs/Python/Python313/Lib/site-packages/cv2/data/haarcascade_frontalface_alt2.xml\")\n",
    "# video_cap =cv2.VideoCapture(0)\n",
    "# while True: \n",
    "#     ret, video_data = video_cap.read()\n",
    "#     col = cv2.CvtColor(video_data,cv2.COLOR_BGR2GRAY)\n",
    "#                 faces = face_cap.detectMultiScale(\n",
    "#                     col,\n",
    "#                     scaleFactor=1.1,\n",
    "#                     minNeighbors =5,\n",
    "#                     minSize=(30,30),\n",
    "#                     flags = cv2.CASCADE_SCALE_IMAGE\n",
    "#                 )\n",
    "#     for (x,y,w,h) in faces:\n",
    "#         cv2.rectangle(video_data ,(x,y), (x+w,y+h),(0,255,0),)\n",
    "#     cv2.imshow(\"Video_Live\",video_data)\n",
    "#     if cv2.waitKey(10) == ord(\"a\"):\n",
    "#         break\n",
    "# # video_cap.release()"
   ]
  },
  {
   "cell_type": "code",
   "execution_count": null,
   "id": "4be79e2d-c195-4162-ab7b-9f81a4a66cc5",
   "metadata": {},
   "outputs": [],
   "source": []
  }
 ],
 "metadata": {
  "kernelspec": {
   "display_name": "Python 3 (ipykernel)",
   "language": "python",
   "name": "python3"
  },
  "language_info": {
   "codemirror_mode": {
    "name": "ipython",
    "version": 3
   },
   "file_extension": ".py",
   "mimetype": "text/x-python",
   "name": "python",
   "nbconvert_exporter": "python",
   "pygments_lexer": "ipython3",
   "version": "3.13.2"
  }
 },
 "nbformat": 4,
 "nbformat_minor": 5
}
